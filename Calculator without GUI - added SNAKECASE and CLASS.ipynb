{
 "cells": [
  {
   "cell_type": "code",
   "execution_count": 13,
   "id": "5eb74c84",
   "metadata": {},
   "outputs": [
    {
     "name": "stdout",
     "output_type": "stream",
     "text": [
      "Requirement already satisfied: snakecase in c:\\users\\bonum\\anaconda3\\lib\\site-packages (1.0.1)\n"
     ]
    },
    {
     "ename": "NameError",
     "evalue": "name 'snakecase' is not defined",
     "output_type": "error",
     "traceback": [
      "\u001b[1;31m---------------------------------------------------------------------------\u001b[0m",
      "\u001b[1;31mNameError\u001b[0m                                 Traceback (most recent call last)",
      "\u001b[1;32m~\\AppData\\Local\\Temp\\ipykernel_6688\\2767239178.py\u001b[0m in \u001b[0;36m<module>\u001b[1;34m\u001b[0m\n\u001b[0;32m      5\u001b[0m \u001b[1;33m\u001b[0m\u001b[0m\n\u001b[0;32m      6\u001b[0m \u001b[1;32mfor\u001b[0m \u001b[0mfilename\u001b[0m \u001b[1;32min\u001b[0m \u001b[0mos\u001b[0m\u001b[1;33m.\u001b[0m\u001b[0mlistdir\u001b[0m\u001b[1;33m(\u001b[0m\u001b[1;33m)\u001b[0m\u001b[1;33m:\u001b[0m\u001b[1;33m\u001b[0m\u001b[1;33m\u001b[0m\u001b[0m\n\u001b[1;32m----> 7\u001b[1;33m     \u001b[0mos\u001b[0m\u001b[1;33m.\u001b[0m\u001b[0mrename\u001b[0m\u001b[1;33m(\u001b[0m\u001b[0mfilename\u001b[0m\u001b[1;33m,\u001b[0m \u001b[0msnakecase\u001b[0m\u001b[1;33m(\u001b[0m\u001b[0mfilename\u001b[0m\u001b[1;33m)\u001b[0m\u001b[1;33m)\u001b[0m\u001b[1;33m\u001b[0m\u001b[1;33m\u001b[0m\u001b[0m\n\u001b[0m\u001b[0;32m      8\u001b[0m \u001b[1;33m\u001b[0m\u001b[0m\n\u001b[0;32m      9\u001b[0m \u001b[1;32mclass\u001b[0m \u001b[0mCalculator\u001b[0m\u001b[1;33m:\u001b[0m\u001b[1;33m\u001b[0m\u001b[1;33m\u001b[0m\u001b[0m\n",
      "\u001b[1;31mNameError\u001b[0m: name 'snakecase' is not defined"
     ]
    }
   ],
   "source": [
    "import math\n",
    "import pylint\n",
    "import os\n",
    "!pip install snakecase\n",
    "\n",
    "for filename in os.listdir():\n",
    "    os.rename(filename, snakecase(Calculator))\n",
    "\n",
    "class Calculator:\n",
    "    \n",
    "    def _init_(Self, name):\n",
    "        self.name = name\n",
    "        \n",
    "    def print_name(self):\n",
    "        print(self.name)\n",
    "\n",
    "    def Calculator():\n",
    "        while True: \n",
    "            # Defining variables\n",
    "            result = 0\n",
    "\n",
    "            # Input by user\n",
    "            entry = input(\"Enter operand ( +, -, *, /, sqrt, exp, log ): \")\n",
    "\n",
    "            # if the \"end\" is entered, stop the loop\n",
    "            if entry == 'End':\n",
    "                break\n",
    "\n",
    "            # ask number from user\n",
    "            num1 = float(input(\"Enter number 1: \"))\n",
    "            num1 = float(input(\"Enter number 2: \"))\n",
    "\n",
    "            # calculate the result\n",
    "            if entry == '+':\n",
    "                result = num1 + num2\n",
    "            elif entry == '-':\n",
    "                result = num1 - num2\n",
    "            elif entry == '*':\n",
    "                result = num1 * num2\n",
    "            elif entry == '/':\n",
    "                result = num1 / num2\n",
    "            elif entry == 'sqrt':\n",
    "                result = math.sqrt(num1,)\n",
    "            elif entry == 'exp':\n",
    "                result = math.exp(num1,)\n",
    "            elif entry == 'log':\n",
    "                result = math.exp(num1,)\n",
    "\n",
    "            # results displays\n",
    "            print(\"Current result: \")"
   ]
  },
  {
   "cell_type": "code",
   "execution_count": null,
   "id": "5e5e4ad3",
   "metadata": {},
   "outputs": [],
   "source": []
  },
  {
   "cell_type": "code",
   "execution_count": null,
   "id": "3aa3039e",
   "metadata": {},
   "outputs": [],
   "source": []
  }
 ],
 "metadata": {
  "kernelspec": {
   "display_name": "Python 3 (ipykernel)",
   "language": "python",
   "name": "python3"
  },
  "language_info": {
   "codemirror_mode": {
    "name": "ipython",
    "version": 3
   },
   "file_extension": ".py",
   "mimetype": "text/x-python",
   "name": "python",
   "nbconvert_exporter": "python",
   "pygments_lexer": "ipython3",
   "version": "3.9.13"
  }
 },
 "nbformat": 4,
 "nbformat_minor": 5
}
