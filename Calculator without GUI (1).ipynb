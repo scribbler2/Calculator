{
 "cells": [
  {
   "cell_type": "code",
   "execution_count": 2,
   "id": "5eb74c84",
   "metadata": {},
   "outputs": [],
   "source": [
    "import math\n",
    "import pylint\n",
    "\n",
    "def calculator():\n",
    "    while True: \n",
    "        # Defining variables\n",
    "        result = 0\n",
    "\n",
    "        # Input by user\n",
    "        entry = input(\"Enter operand ( +, -, *, /, sqrt, exp, log ): \")\n",
    "   \n",
    "        # if the \"end\" is entered, stop the loop\n",
    "        if entry == 'End':\n",
    "            break\n",
    "   \n",
    "        # ask number from user\n",
    "        num1 = float(input(\"Enter number 1: \"))\n",
    "        num2 = float(input(\"Enter number 2: \"))\n",
    "    \n",
    "        # calculate the result\n",
    "        if entry == '+':\n",
    "            result = num1 + num2\n",
    "        elif entry == '-':\n",
    "            result = num1 - num2\n",
    "        elif entry == '*':\n",
    "            result = num1 * num2\n",
    "        elif entry == '/':\n",
    "            result = num1 / num2\n",
    "        elif entry == 'sqrt':\n",
    "            result = math.sqrt(num1,)\n",
    "        elif entry == 'exp':\n",
    "            result = math.exp(num1,)\n",
    "        elif entry == 'log':\n",
    "            result = math.exp(num1,)\n",
    "    \n",
    "        # results displays\n",
    "        print(\"Current result: \")"
   ]
  },
  {
   "cell_type": "code",
   "execution_count": null,
   "id": "5e5e4ad3",
   "metadata": {},
   "outputs": [],
   "source": []
  }
 ],
 "metadata": {
  "kernelspec": {
   "display_name": "Python 3 (ipykernel)",
   "language": "python",
   "name": "python3"
  },
  "language_info": {
   "codemirror_mode": {
    "name": "ipython",
    "version": 3
   },
   "file_extension": ".py",
   "mimetype": "text/x-python",
   "name": "python",
   "nbconvert_exporter": "python",
   "pygments_lexer": "ipython3",
   "version": "3.9.13"
  }
 },
 "nbformat": 4,
 "nbformat_minor": 5
}
