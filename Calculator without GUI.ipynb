{
 "cells": [
  {
   "cell_type": "code",
   "execution_count": 2,
   "id": "ce2e8cad",
   "metadata": {},
   "outputs": [
    {
     "ename": "SyntaxError",
     "evalue": "invalid syntax (4053774817.py, line 3)",
     "output_type": "error",
     "traceback": [
      "\u001b[1;36m  File \u001b[1;32m\"C:\\Users\\bonum\\AppData\\Local\\Temp\\ipykernel_10224\\4053774817.py\"\u001b[1;36m, line \u001b[1;32m3\u001b[0m\n\u001b[1;33m    def calculator:\u001b[0m\n\u001b[1;37m                  ^\u001b[0m\n\u001b[1;31mSyntaxError\u001b[0m\u001b[1;31m:\u001b[0m invalid syntax\n"
     ]
    }
   ],
   "source": [
    "import math\n",
    "\n",
    "def calculator:\n",
    "    while \n",
    "    # Defining variables\n",
    "    result = 0\n",
    "\n",
    "    # Loop waiting for input\n",
    "    while True:\n",
    "        # Input by user\n",
    "        entry = input(\"Enter operand ( +, -, *, /, sqrt, exp, log ): \")\n",
    "   \n",
    "        # if the \"end\" is entered, stop the loop\n",
    "        if entry == 'End':\n",
    "            break\n",
    "   \n",
    "        # ask number from user\n",
    "        num1 = float(input(\"Enter number 1: \"))\n",
    "        num1 = float(input(\"Enter number 2: \"))\n",
    "    \n",
    "        # calculate the result\n",
    "        if entry == '+':\n",
    "            result = num1 + num2\n",
    "        elif entry == '-':\n",
    "            result = num1 - num2\n",
    "        elif entry == '*':\n",
    "            result = num1 * num2\n",
    "        elif entry == '/':\n",
    "            result = num1 / num2\n",
    "        elif entry == 'sqrt':\n",
    "            result = math.sqrt(num1,)\n",
    "        elif entry == 'exp':\n",
    "            result = math.exp(num1,)\n",
    "        elif entry == 'log':\n",
    "            result = math.exp(num1,)\n",
    "    \n",
    "        # results displays\n",
    "        print(\"Current result: \")"
   ]
  },
  {
   "cell_type": "code",
   "execution_count": null,
   "id": "281f5d56",
   "metadata": {},
   "outputs": [],
   "source": []
  },
  {
   "cell_type": "code",
   "execution_count": 3,
   "id": "08f5d7a7",
   "metadata": {},
   "outputs": [
    {
     "data": {
      "text/plain": [
       "150"
      ]
     },
     "execution_count": 3,
     "metadata": {},
     "output_type": "execute_result"
    }
   ],
   "source": [
    "15*10\n"
   ]
  },
  {
   "cell_type": "code",
   "execution_count": null,
   "id": "156ac5ea",
   "metadata": {},
   "outputs": [],
   "source": []
  }
 ],
 "metadata": {
  "kernelspec": {
   "display_name": "Python 3 (ipykernel)",
   "language": "python",
   "name": "python3"
  },
  "language_info": {
   "codemirror_mode": {
    "name": "ipython",
    "version": 3
   },
   "file_extension": ".py",
   "mimetype": "text/x-python",
   "name": "python",
   "nbconvert_exporter": "python",
   "pygments_lexer": "ipython3",
   "version": "3.9.13"
  }
 },
 "nbformat": 4,
 "nbformat_minor": 5
}
